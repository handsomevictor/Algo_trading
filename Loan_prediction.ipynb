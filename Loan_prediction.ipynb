{
  "cells": [
    {
      "metadata": {
        "trusted": true
      },
      "cell_type": "code",
      "source": "import os\nimport pandas as pd\nimport numpy as np\nimport matplotlib.pyplot as plt\nimport warnings                        # To ignore any warnings\nwarnings.filterwarnings(\"ignore\")",
      "execution_count": 1,
      "outputs": []
    },
    {
      "metadata": {},
      "cell_type": "markdown",
      "source": "## Data EDA and Importing Data"
    },
    {
      "metadata": {
        "trusted": true
      },
      "cell_type": "code",
      "source": "train=pd.read_csv('train_u6lujuX_CVtuZ9i.csv')\ntest=pd.read_csv('test_Y3wMUE5_7gLdaTN.csv')\n\ntrain_original=train.copy() \ntest_original=test.copy()\n\ntrain.info()",
      "execution_count": 2,
      "outputs": [
        {
          "output_type": "stream",
          "text": "<class 'pandas.core.frame.DataFrame'>\nRangeIndex: 614 entries, 0 to 613\nData columns (total 13 columns):\nLoan_ID              614 non-null object\nGender               601 non-null object\nMarried              611 non-null object\nDependents           599 non-null object\nEducation            614 non-null object\nSelf_Employed        582 non-null object\nApplicantIncome      614 non-null int64\nCoapplicantIncome    614 non-null float64\nLoanAmount           592 non-null float64\nLoan_Amount_Term     600 non-null float64\nCredit_History       564 non-null float64\nProperty_Area        614 non-null object\nLoan_Status          614 non-null object\ndtypes: float64(4), int64(1), object(8)\nmemory usage: 62.4+ KB\n",
          "name": "stdout"
        }
      ]
    },
    {
      "metadata": {
        "trusted": true
      },
      "cell_type": "code",
      "source": "train.isnull().sum()",
      "execution_count": 3,
      "outputs": [
        {
          "output_type": "execute_result",
          "execution_count": 3,
          "data": {
            "text/plain": "Loan_ID               0\nGender               13\nMarried               3\nDependents           15\nEducation             0\nSelf_Employed        32\nApplicantIncome       0\nCoapplicantIncome     0\nLoanAmount           22\nLoan_Amount_Term     14\nCredit_History       50\nProperty_Area         0\nLoan_Status           0\ndtype: int64"
          },
          "metadata": {}
        }
      ]
    },
    {
      "metadata": {
        "trusted": true
      },
      "cell_type": "code",
      "source": "test.isnull().sum()",
      "execution_count": 4,
      "outputs": [
        {
          "output_type": "execute_result",
          "execution_count": 4,
          "data": {
            "text/plain": "Loan_ID               0\nGender               11\nMarried               0\nDependents           10\nEducation             0\nSelf_Employed        23\nApplicantIncome       0\nCoapplicantIncome     0\nLoanAmount            5\nLoan_Amount_Term      6\nCredit_History       29\nProperty_Area         0\ndtype: int64"
          },
          "metadata": {}
        }
      ]
    },
    {
      "metadata": {
        "trusted": true
      },
      "cell_type": "code",
      "source": "train.describe()",
      "execution_count": 5,
      "outputs": [
        {
          "output_type": "execute_result",
          "execution_count": 5,
          "data": {
            "text/html": "<div>\n<style scoped>\n    .dataframe tbody tr th:only-of-type {\n        vertical-align: middle;\n    }\n\n    .dataframe tbody tr th {\n        vertical-align: top;\n    }\n\n    .dataframe thead th {\n        text-align: right;\n    }\n</style>\n<table border=\"1\" class=\"dataframe\">\n  <thead>\n    <tr style=\"text-align: right;\">\n      <th></th>\n      <th>ApplicantIncome</th>\n      <th>CoapplicantIncome</th>\n      <th>LoanAmount</th>\n      <th>Loan_Amount_Term</th>\n      <th>Credit_History</th>\n    </tr>\n  </thead>\n  <tbody>\n    <tr>\n      <th>count</th>\n      <td>614.000000</td>\n      <td>614.000000</td>\n      <td>592.000000</td>\n      <td>600.00000</td>\n      <td>564.000000</td>\n    </tr>\n    <tr>\n      <th>mean</th>\n      <td>5403.459283</td>\n      <td>1621.245798</td>\n      <td>146.412162</td>\n      <td>342.00000</td>\n      <td>0.842199</td>\n    </tr>\n    <tr>\n      <th>std</th>\n      <td>6109.041673</td>\n      <td>2926.248369</td>\n      <td>85.587325</td>\n      <td>65.12041</td>\n      <td>0.364878</td>\n    </tr>\n    <tr>\n      <th>min</th>\n      <td>150.000000</td>\n      <td>0.000000</td>\n      <td>9.000000</td>\n      <td>12.00000</td>\n      <td>0.000000</td>\n    </tr>\n    <tr>\n      <th>25%</th>\n      <td>2877.500000</td>\n      <td>0.000000</td>\n      <td>100.000000</td>\n      <td>360.00000</td>\n      <td>1.000000</td>\n    </tr>\n    <tr>\n      <th>50%</th>\n      <td>3812.500000</td>\n      <td>1188.500000</td>\n      <td>128.000000</td>\n      <td>360.00000</td>\n      <td>1.000000</td>\n    </tr>\n    <tr>\n      <th>75%</th>\n      <td>5795.000000</td>\n      <td>2297.250000</td>\n      <td>168.000000</td>\n      <td>360.00000</td>\n      <td>1.000000</td>\n    </tr>\n    <tr>\n      <th>max</th>\n      <td>81000.000000</td>\n      <td>41667.000000</td>\n      <td>700.000000</td>\n      <td>480.00000</td>\n      <td>1.000000</td>\n    </tr>\n  </tbody>\n</table>\n</div>",
            "text/plain": "       ApplicantIncome  CoapplicantIncome  LoanAmount  Loan_Amount_Term  \\\ncount       614.000000         614.000000  592.000000         600.00000   \nmean       5403.459283        1621.245798  146.412162         342.00000   \nstd        6109.041673        2926.248369   85.587325          65.12041   \nmin         150.000000           0.000000    9.000000          12.00000   \n25%        2877.500000           0.000000  100.000000         360.00000   \n50%        3812.500000        1188.500000  128.000000         360.00000   \n75%        5795.000000        2297.250000  168.000000         360.00000   \nmax       81000.000000       41667.000000  700.000000         480.00000   \n\n       Credit_History  \ncount      564.000000  \nmean         0.842199  \nstd          0.364878  \nmin          0.000000  \n25%          1.000000  \n50%          1.000000  \n75%          1.000000  \nmax          1.000000  "
          },
          "metadata": {}
        }
      ]
    },
    {
      "metadata": {
        "trusted": true
      },
      "cell_type": "code",
      "source": "category_columns=train.select_dtypes(include=['object']).columns\ncategory_columns",
      "execution_count": 6,
      "outputs": [
        {
          "output_type": "execute_result",
          "execution_count": 6,
          "data": {
            "text/plain": "Index(['Loan_ID', 'Gender', 'Married', 'Dependents', 'Education',\n       'Self_Employed', 'Property_Area', 'Loan_Status'],\n      dtype='object')"
          },
          "metadata": {}
        }
      ]
    },
    {
      "metadata": {
        "trusted": true
      },
      "cell_type": "code",
      "source": "nums=train.select_dtypes(include=['int64','float64']).columns\nnums",
      "execution_count": 7,
      "outputs": [
        {
          "output_type": "execute_result",
          "execution_count": 7,
          "data": {
            "text/plain": "Index(['ApplicantIncome', 'CoapplicantIncome', 'LoanAmount',\n       'Loan_Amount_Term', 'Credit_History'],\n      dtype='object')"
          },
          "metadata": {}
        }
      ]
    },
    {
      "metadata": {
        "trusted": true
      },
      "cell_type": "code",
      "source": "train.columns",
      "execution_count": 8,
      "outputs": [
        {
          "output_type": "execute_result",
          "execution_count": 8,
          "data": {
            "text/plain": "Index(['Loan_ID', 'Gender', 'Married', 'Dependents', 'Education',\n       'Self_Employed', 'ApplicantIncome', 'CoapplicantIncome', 'LoanAmount',\n       'Loan_Amount_Term', 'Credit_History', 'Property_Area', 'Loan_Status'],\n      dtype='object')"
          },
          "metadata": {}
        }
      ]
    },
    {
      "metadata": {
        "trusted": true
      },
      "cell_type": "code",
      "source": "len(train.columns)",
      "execution_count": 9,
      "outputs": [
        {
          "output_type": "execute_result",
          "execution_count": 9,
          "data": {
            "text/plain": "13"
          },
          "metadata": {}
        }
      ]
    },
    {
      "metadata": {
        "trusted": true
      },
      "cell_type": "code",
      "source": "len(nums)+len(category_columns)",
      "execution_count": 10,
      "outputs": [
        {
          "output_type": "execute_result",
          "execution_count": 10,
          "data": {
            "text/plain": "13"
          },
          "metadata": {}
        }
      ]
    },
    {
      "metadata": {},
      "cell_type": "markdown",
      "source": "### Let us check out type of values in category"
    },
    {
      "metadata": {
        "trusted": true
      },
      "cell_type": "code",
      "source": "category_columns",
      "execution_count": 11,
      "outputs": [
        {
          "output_type": "execute_result",
          "execution_count": 11,
          "data": {
            "text/plain": "Index(['Loan_ID', 'Gender', 'Married', 'Dependents', 'Education',\n       'Self_Employed', 'Property_Area', 'Loan_Status'],\n      dtype='object')"
          },
          "metadata": {}
        }
      ]
    },
    {
      "metadata": {
        "trusted": true
      },
      "cell_type": "code",
      "source": "train.shape",
      "execution_count": 12,
      "outputs": [
        {
          "output_type": "execute_result",
          "execution_count": 12,
          "data": {
            "text/plain": "(614, 13)"
          },
          "metadata": {}
        }
      ]
    },
    {
      "metadata": {
        "trusted": true
      },
      "cell_type": "code",
      "source": "len(train.Loan_ID.value_counts())",
      "execution_count": 13,
      "outputs": [
        {
          "output_type": "execute_result",
          "execution_count": 13,
          "data": {
            "text/plain": "614"
          },
          "metadata": {}
        }
      ]
    },
    {
      "metadata": {
        "trusted": true
      },
      "cell_type": "code",
      "source": "train.Gender.value_counts()",
      "execution_count": 14,
      "outputs": [
        {
          "output_type": "execute_result",
          "execution_count": 14,
          "data": {
            "text/plain": "Male      489\nFemale    112\nName: Gender, dtype: int64"
          },
          "metadata": {}
        }
      ]
    },
    {
      "metadata": {
        "trusted": true
      },
      "cell_type": "code",
      "source": "train.Dependents.value_counts()",
      "execution_count": 15,
      "outputs": [
        {
          "output_type": "execute_result",
          "execution_count": 15,
          "data": {
            "text/plain": "0     345\n1     102\n2     101\n3+     51\nName: Dependents, dtype: int64"
          },
          "metadata": {}
        }
      ]
    },
    {
      "metadata": {
        "trusted": true
      },
      "cell_type": "code",
      "source": "train.Education.value_counts()",
      "execution_count": 16,
      "outputs": [
        {
          "output_type": "execute_result",
          "execution_count": 16,
          "data": {
            "text/plain": "Graduate        480\nNot Graduate    134\nName: Education, dtype: int64"
          },
          "metadata": {}
        }
      ]
    },
    {
      "metadata": {
        "trusted": true
      },
      "cell_type": "code",
      "source": "train.Self_Employed.value_counts()",
      "execution_count": 17,
      "outputs": [
        {
          "output_type": "execute_result",
          "execution_count": 17,
          "data": {
            "text/plain": "No     500\nYes     82\nName: Self_Employed, dtype: int64"
          },
          "metadata": {}
        }
      ]
    },
    {
      "metadata": {
        "trusted": true
      },
      "cell_type": "code",
      "source": "train.Property_Area.value_counts()",
      "execution_count": 18,
      "outputs": [
        {
          "output_type": "execute_result",
          "execution_count": 18,
          "data": {
            "text/plain": "Semiurban    233\nUrban        202\nRural        179\nName: Property_Area, dtype: int64"
          },
          "metadata": {}
        }
      ]
    },
    {
      "metadata": {
        "trusted": true
      },
      "cell_type": "code",
      "source": "train.Loan_Status.value_counts()",
      "execution_count": 19,
      "outputs": [
        {
          "output_type": "execute_result",
          "execution_count": 19,
          "data": {
            "text/plain": "Y    422\nN    192\nName: Loan_Status, dtype: int64"
          },
          "metadata": {}
        }
      ]
    },
    {
      "metadata": {
        "trusted": true
      },
      "cell_type": "code",
      "source": "train['Dependents'].replace('3+', 3,inplace=True) \ntest['Dependents'].replace('3+', 3,inplace=True) \ntrain['Loan_Status'].replace('N', 0,inplace=True) \ntrain['Loan_Status'].replace('Y', 1,inplace=True)",
      "execution_count": 20,
      "outputs": []
    },
    {
      "metadata": {
        "trusted": true
      },
      "cell_type": "code",
      "source": "train.Loan_Status.value_counts()",
      "execution_count": 21,
      "outputs": [
        {
          "output_type": "execute_result",
          "execution_count": 21,
          "data": {
            "text/plain": "1    422\n0    192\nName: Loan_Status, dtype: int64"
          },
          "metadata": {}
        }
      ]
    },
    {
      "metadata": {
        "trusted": true
      },
      "cell_type": "code",
      "source": "train.Dependents.value_counts()",
      "execution_count": 22,
      "outputs": [
        {
          "output_type": "execute_result",
          "execution_count": 22,
          "data": {
            "text/plain": "0    345\n1    102\n2    101\n3     51\nName: Dependents, dtype: int64"
          },
          "metadata": {}
        }
      ]
    },
    {
      "metadata": {
        "trusted": true
      },
      "cell_type": "code",
      "source": "test.Dependents.value_counts()",
      "execution_count": 24,
      "outputs": [
        {
          "output_type": "execute_result",
          "execution_count": 24,
          "data": {
            "text/plain": "0    200\n2     59\n1     58\n3     40\nName: Dependents, dtype: int64"
          },
          "metadata": {}
        }
      ]
    },
    {
      "metadata": {
        "trusted": true
      },
      "cell_type": "code",
      "source": "train[category_columns].isnull().sum()",
      "execution_count": 23,
      "outputs": [
        {
          "output_type": "execute_result",
          "execution_count": 23,
          "data": {
            "text/plain": "Loan_ID           0\nGender           13\nMarried           3\nDependents       15\nEducation         0\nSelf_Employed    32\nProperty_Area     0\nLoan_Status       0\ndtype: int64"
          },
          "metadata": {}
        }
      ]
    },
    {
      "metadata": {},
      "cell_type": "markdown",
      "source": "We can consider these methods to fill the missing values:\n\n**For numerical variables: imputation using mean or median**\n\n**For categorical variables: imputation using mode(occuring max times)**"
    },
    {
      "metadata": {
        "trusted": true
      },
      "cell_type": "code",
      "source": "train['Gender'].fillna(train['Gender'].mode()[0], inplace=True) \ntrain['Married'].fillna(train['Married'].mode()[0], inplace=True)\ntrain['Dependents'].fillna(train['Dependents'].mode()[0], inplace=True)\ntrain['Self_Employed'].fillna(train['Self_Employed'].mode()[0], inplace=True)\ntrain['Credit_History'].fillna(train['Credit_History'].mode()[0], inplace=True)",
      "execution_count": 25,
      "outputs": []
    },
    {
      "metadata": {
        "trusted": true
      },
      "cell_type": "code",
      "source": "train[category_columns].isnull().sum()",
      "execution_count": 26,
      "outputs": [
        {
          "output_type": "execute_result",
          "execution_count": 26,
          "data": {
            "text/plain": "Loan_ID          0\nGender           0\nMarried          0\nDependents       0\nEducation        0\nSelf_Employed    0\nProperty_Area    0\nLoan_Status      0\ndtype: int64"
          },
          "metadata": {}
        }
      ]
    },
    {
      "metadata": {
        "trusted": true
      },
      "cell_type": "code",
      "source": "test['Gender'].fillna(train['Gender'].mode()[0], inplace=True) \ntest['Dependents'].fillna(train['Dependents'].mode()[0], inplace=True)\ntest['Self_Employed'].fillna(train['Self_Employed'].mode()[0], inplace=True)\ntest['Credit_History'].fillna(train['Credit_History'].mode()[0], inplace=True)\ntest['Loan_Amount_Term'].fillna(train['Loan_Amount_Term'].mode()[0], inplace=True)\ntest['LoanAmount'].fillna(train['LoanAmount'].median(), inplace=True)\n",
      "execution_count": 27,
      "outputs": []
    },
    {
      "metadata": {
        "trusted": true
      },
      "cell_type": "code",
      "source": "test.isnull().sum()",
      "execution_count": 28,
      "outputs": [
        {
          "output_type": "execute_result",
          "execution_count": 28,
          "data": {
            "text/plain": "Loan_ID              0\nGender               0\nMarried              0\nDependents           0\nEducation            0\nSelf_Employed        0\nApplicantIncome      0\nCoapplicantIncome    0\nLoanAmount           0\nLoan_Amount_Term     0\nCredit_History       0\nProperty_Area        0\ndtype: int64"
          },
          "metadata": {}
        }
      ]
    },
    {
      "metadata": {},
      "cell_type": "markdown",
      "source": "## We have treated the categorical null values now we will treat the numerical values"
    },
    {
      "metadata": {
        "trusted": true
      },
      "cell_type": "code",
      "source": "train[nums].isnull().sum()",
      "execution_count": 29,
      "outputs": [
        {
          "output_type": "execute_result",
          "execution_count": 29,
          "data": {
            "text/plain": "ApplicantIncome       0\nCoapplicantIncome     0\nLoanAmount           22\nLoan_Amount_Term     14\nCredit_History        0\ndtype: int64"
          },
          "metadata": {}
        }
      ]
    },
    {
      "metadata": {
        "trusted": true
      },
      "cell_type": "code",
      "source": "test[nums].isnull().sum()",
      "execution_count": 31,
      "outputs": [
        {
          "output_type": "execute_result",
          "execution_count": 31,
          "data": {
            "text/plain": "ApplicantIncome      0\nCoapplicantIncome    0\nLoanAmount           0\nLoan_Amount_Term     0\nCredit_History       0\ndtype: int64"
          },
          "metadata": {}
        }
      ]
    },
    {
      "metadata": {
        "trusted": true
      },
      "cell_type": "code",
      "source": "train['Loan_Amount_Term'].value_counts()\n",
      "execution_count": 30,
      "outputs": [
        {
          "output_type": "execute_result",
          "execution_count": 30,
          "data": {
            "text/plain": "360.0    512\n180.0     44\n480.0     15\n300.0     13\n84.0       4\n240.0      4\n120.0      3\n36.0       2\n60.0       2\n12.0       1\nName: Loan_Amount_Term, dtype: int64"
          },
          "metadata": {}
        }
      ]
    },
    {
      "metadata": {
        "trusted": true
      },
      "cell_type": "code",
      "source": "#It can be seen that in loan amount term variable, the value of 360 is repeating the most. \n#So we will replace the missing values in this variable using the mode of this variable.\ntrain['Loan_Amount_Term'].fillna(train['Loan_Amount_Term'].mode()[0], inplace=True)",
      "execution_count": 32,
      "outputs": []
    },
    {
      "metadata": {
        "trusted": true
      },
      "cell_type": "code",
      "source": "train['LoanAmount'].hist(bins=20) ",
      "execution_count": 33,
      "outputs": [
        {
          "output_type": "execute_result",
          "execution_count": 33,
          "data": {
            "text/plain": "<matplotlib.axes._subplots.AxesSubplot at 0x7fd0ea4f9898>"
          },
          "metadata": {}
        },
        {
          "output_type": "display_data",
          "data": {
            "image/png": "[encoded data removed]",
            "text/plain": "<Figure size 432x288 with 1 Axes>"
          },
          "metadata": {
            "needs_background": "light"
          }
        }
      ]
    },
    {
      "metadata": {},
      "cell_type": "markdown",
      "source": "### LoanAmount has outliers"
    },
    {
      "metadata": {
        "trusted": true
      },
      "cell_type": "code",
      "source": "#As Loan amount has lot of outliers so mean is not a good approach to fill missing values\ntrain['LoanAmount'].fillna(train['LoanAmount'].median(), inplace=True)",
      "execution_count": 34,
      "outputs": []
    },
    {
      "metadata": {},
      "cell_type": "markdown",
      "source": "## Outlier Treatment for both test and train data"
    },
    {
      "metadata": {
        "trusted": true
      },
      "cell_type": "code",
      "source": "train['LoanAmount'].hist(bins=20) ",
      "execution_count": 35,
      "outputs": [
        {
          "output_type": "execute_result",
          "execution_count": 35,
          "data": {
            "text/plain": "<matplotlib.axes._subplots.AxesSubplot at 0x7fd0ea1c04a8>"
          },
          "metadata": {}
        },
        {
          "output_type": "display_data",
          "data": {
            "image/png": "[encoded data removed]",
            "text/plain": "<Figure size 432x288 with 1 Axes>"
          },
          "metadata": {
            "needs_background": "light"
          }
        }
      ]
    },
    {
      "metadata": {
        "trusted": true
      },
      "cell_type": "code",
      "source": "test['LoanAmount'].hist(bins=20) ",
      "execution_count": 36,
      "outputs": [
        {
          "output_type": "execute_result",
          "execution_count": 36,
          "data": {
            "text/plain": "<matplotlib.axes._subplots.AxesSubplot at 0x7fd0ea172748>"
          },
          "metadata": {}
        },
        {
          "output_type": "display_data",
          "data": {
            "image/png": "[encoded data removed]",
            "text/plain": "<Figure size 432x288 with 1 Axes>"
          },
          "metadata": {
            "needs_background": "light"
          }
        }
      ]
    },
    {
      "metadata": {
        "trusted": true
      },
      "cell_type": "code",
      "source": "train['LoanAmount_log'] = np.log(train['LoanAmount'])",
      "execution_count": 37,
      "outputs": []
    },
    {
      "metadata": {
        "trusted": true
      },
      "cell_type": "code",
      "source": "train['LoanAmount_log'].hist(bins=20) ",
      "execution_count": 38,
      "outputs": [
        {
          "output_type": "execute_result",
          "execution_count": 38,
          "data": {
            "text/plain": "<matplotlib.axes._subplots.AxesSubplot at 0x7fd0ea1b6e80>"
          },
          "metadata": {}
        },
        {
          "output_type": "display_data",
          "data": {
            "image/png": "[encoded data removed]",
            "text/plain": "<Figure size 432x288 with 1 Axes>"
          },
          "metadata": {
            "needs_background": "light"
          }
        }
      ]
    },
    {
      "metadata": {
        "trusted": true
      },
      "cell_type": "code",
      "source": "test['LoanAmount_log'] = np.log(test['LoanAmount'])",
      "execution_count": 39,
      "outputs": []
    },
    {
      "metadata": {
        "trusted": true
      },
      "cell_type": "code",
      "source": "train['LoanAmount_log'].hist(bins=20) ",
      "execution_count": 40,
      "outputs": [
        {
          "output_type": "execute_result",
          "execution_count": 40,
          "data": {
            "text/plain": "<matplotlib.axes._subplots.AxesSubplot at 0x7fd0ea054da0>"
          },
          "metadata": {}
        },
        {
          "output_type": "display_data",
          "data": {
            "image/png": "[encoded data removed]",
            "text/plain": "<Figure size 432x288 with 1 Axes>"
          },
          "metadata": {
            "needs_background": "light"
          }
        }
      ]
    },
    {
      "metadata": {},
      "cell_type": "markdown",
      "source": "## Dropping uncessary columns and splitting data"
    },
    {
      "metadata": {
        "trusted": true
      },
      "cell_type": "code",
      "source": "train.columns",
      "execution_count": 41,
      "outputs": [
        {
          "output_type": "execute_result",
          "execution_count": 41,
          "data": {
            "text/plain": "Index(['Loan_ID', 'Gender', 'Married', 'Dependents', 'Education',\n       'Self_Employed', 'ApplicantIncome', 'CoapplicantIncome', 'LoanAmount',\n       'Loan_Amount_Term', 'Credit_History', 'Property_Area', 'Loan_Status',\n       'LoanAmount_log'],\n      dtype='object')"
          },
          "metadata": {}
        }
      ]
    },
    {
      "metadata": {
        "trusted": true
      },
      "cell_type": "code",
      "source": "train=train.drop(['Loan_ID','LoanAmount'],axis=1) ",
      "execution_count": 42,
      "outputs": []
    },
    {
      "metadata": {
        "trusted": true
      },
      "cell_type": "code",
      "source": "train.columns",
      "execution_count": 43,
      "outputs": [
        {
          "output_type": "execute_result",
          "execution_count": 43,
          "data": {
            "text/plain": "Index(['Gender', 'Married', 'Dependents', 'Education', 'Self_Employed',\n       'ApplicantIncome', 'CoapplicantIncome', 'Loan_Amount_Term',\n       'Credit_History', 'Property_Area', 'Loan_Status', 'LoanAmount_log'],\n      dtype='object')"
          },
          "metadata": {}
        }
      ]
    },
    {
      "metadata": {
        "trusted": true
      },
      "cell_type": "code",
      "source": "train.shape",
      "execution_count": 44,
      "outputs": [
        {
          "output_type": "execute_result",
          "execution_count": 44,
          "data": {
            "text/plain": "(614, 12)"
          },
          "metadata": {}
        }
      ]
    },
    {
      "metadata": {
        "trusted": true
      },
      "cell_type": "code",
      "source": "test=test.drop(['Loan_ID','LoanAmount'],axis=1)",
      "execution_count": 45,
      "outputs": []
    },
    {
      "metadata": {
        "trusted": true
      },
      "cell_type": "code",
      "source": "test.columns",
      "execution_count": 46,
      "outputs": [
        {
          "output_type": "execute_result",
          "execution_count": 46,
          "data": {
            "text/plain": "Index(['Gender', 'Married', 'Dependents', 'Education', 'Self_Employed',\n       'ApplicantIncome', 'CoapplicantIncome', 'Loan_Amount_Term',\n       'Credit_History', 'Property_Area', 'LoanAmount_log'],\n      dtype='object')"
          },
          "metadata": {}
        }
      ]
    },
    {
      "metadata": {
        "trusted": true
      },
      "cell_type": "code",
      "source": "test.shape",
      "execution_count": 47,
      "outputs": [
        {
          "output_type": "execute_result",
          "execution_count": 47,
          "data": {
            "text/plain": "(367, 11)"
          },
          "metadata": {}
        }
      ]
    },
    {
      "metadata": {
        "trusted": true
      },
      "cell_type": "code",
      "source": "X = train.drop('Loan_Status',1) \ny = train.Loan_Status",
      "execution_count": 48,
      "outputs": []
    },
    {
      "metadata": {
        "trusted": true
      },
      "cell_type": "code",
      "source": "X=pd.get_dummies(X) \ntrain=pd.get_dummies(train) \ntest=pd.get_dummies(test)",
      "execution_count": 49,
      "outputs": []
    },
    {
      "metadata": {
        "trusted": true
      },
      "cell_type": "code",
      "source": "train.columns",
      "execution_count": 50,
      "outputs": [
        {
          "output_type": "execute_result",
          "execution_count": 50,
          "data": {
            "text/plain": "Index(['ApplicantIncome', 'CoapplicantIncome', 'Loan_Amount_Term',\n       'Credit_History', 'Loan_Status', 'LoanAmount_log', 'Gender_Female',\n       'Gender_Male', 'Married_No', 'Married_Yes', 'Dependents_3',\n       'Dependents_0', 'Dependents_1', 'Dependents_2', 'Education_Graduate',\n       'Education_Not Graduate', 'Self_Employed_No', 'Self_Employed_Yes',\n       'Property_Area_Rural', 'Property_Area_Semiurban',\n       'Property_Area_Urban'],\n      dtype='object')"
          },
          "metadata": {}
        }
      ]
    },
    {
      "metadata": {
        "trusted": true
      },
      "cell_type": "code",
      "source": "test.columns",
      "execution_count": 52,
      "outputs": [
        {
          "output_type": "execute_result",
          "execution_count": 52,
          "data": {
            "text/plain": "Index(['ApplicantIncome', 'CoapplicantIncome', 'Loan_Amount_Term',\n       'Credit_History', 'LoanAmount_log', 'Gender_Female', 'Gender_Male',\n       'Married_No', 'Married_Yes', 'Dependents_3', 'Dependents_0',\n       'Dependents_1', 'Dependents_2', 'Education_Graduate',\n       'Education_Not Graduate', 'Self_Employed_No', 'Self_Employed_Yes',\n       'Property_Area_Rural', 'Property_Area_Semiurban',\n       'Property_Area_Urban'],\n      dtype='object')"
          },
          "metadata": {}
        }
      ]
    },
    {
      "metadata": {
        "trusted": true
      },
      "cell_type": "code",
      "source": "col_absent_test=[x for x in list(train.columns) if x not in list(test.columns)]",
      "execution_count": 54,
      "outputs": []
    },
    {
      "metadata": {
        "trusted": true
      },
      "cell_type": "code",
      "source": "col_absent_test",
      "execution_count": 55,
      "outputs": [
        {
          "output_type": "execute_result",
          "execution_count": 55,
          "data": {
            "text/plain": "['Loan_Status']"
          },
          "metadata": {}
        }
      ]
    },
    {
      "metadata": {},
      "cell_type": "markdown",
      "source": "### Great we have equal columns and same columns in both except the target which is obvious to be absent in test"
    },
    {
      "metadata": {
        "trusted": true
      },
      "cell_type": "code",
      "source": "from sklearn.model_selection import train_test_split\n\nx_train, x_cv, y_train, y_cv = train_test_split(X,y, test_size =0.3)",
      "execution_count": 56,
      "outputs": []
    },
    {
      "metadata": {},
      "cell_type": "markdown",
      "source": "## We will use accuracy as metrics"
    },
    {
      "metadata": {},
      "cell_type": "markdown",
      "source": "## Model building"
    },
    {
      "metadata": {},
      "cell_type": "markdown",
      "source": "## I) Logistic Regression"
    },
    {
      "metadata": {
        "trusted": true
      },
      "cell_type": "code",
      "source": "from sklearn.linear_model import LogisticRegression \nfrom sklearn.metrics import accuracy_score\nmodel = LogisticRegression() \nmodel.fit(x_train, y_train)",
      "execution_count": 57,
      "outputs": [
        {
          "output_type": "execute_result",
          "execution_count": 57,
          "data": {
            "text/plain": "LogisticRegression(C=1.0, class_weight=None, dual=False, fit_intercept=True,\n          intercept_scaling=1, max_iter=100, multi_class='warn',\n          n_jobs=None, penalty='l2', random_state=None, solver='warn',\n          tol=0.0001, verbose=0, warm_start=False)"
          },
          "metadata": {}
        }
      ]
    },
    {
      "metadata": {
        "trusted": true
      },
      "cell_type": "code",
      "source": "pred_cv = model.predict(x_cv)\naccuracy_score(y_cv,pred_cv)",
      "execution_count": 58,
      "outputs": [
        {
          "output_type": "execute_result",
          "execution_count": 58,
          "data": {
            "text/plain": "0.8216216216216217"
          },
          "metadata": {}
        }
      ]
    },
    {
      "metadata": {
        "trusted": true
      },
      "cell_type": "code",
      "source": "pred_test_LOGISTIC = model.predict(test)",
      "execution_count": 61,
      "outputs": []
    },
    {
      "metadata": {},
      "cell_type": "markdown",
      "source": "## Stratified k-fold cross validation\n\nStratification is the process of rearranging the data so as to ensure that each fold is a good representative of the whole."
    },
    {
      "metadata": {
        "trusted": true
      },
      "cell_type": "code",
      "source": "from sklearn.model_selection import StratifiedKFold",
      "execution_count": 62,
      "outputs": []
    },
    {
      "metadata": {
        "trusted": true
      },
      "cell_type": "code",
      "source": "i=1 \nkf = StratifiedKFold(n_splits=5,random_state=1,shuffle=True)",
      "execution_count": 63,
      "outputs": []
    },
    {
      "metadata": {
        "trusted": true
      },
      "cell_type": "code",
      "source": "for train_index,test_index in kf.split(X,y):\n    print('\\n{} of kfold {}'.format(i,kf.n_splits))\n    xtr,xvl = X.loc[train_index],X.loc[test_index]\n    ytr,yvl = y[train_index],y[test_index]\n    model = LogisticRegression(random_state=1)\n    model.fit(xtr, ytr)\n    pred_test = model.predict(xvl)\n    score = accuracy_score(yvl,pred_test)\n    print('accuracy_score',score)\n    i+=1\n    pred_test_stratified = model.predict(test)\n    pred=model.predict_proba(xvl)[:,1]",
      "execution_count": 65,
      "outputs": [
        {
          "output_type": "stream",
          "text": "\n6 of kfold 5\naccuracy_score 0.7983870967741935\n\n7 of kfold 5\naccuracy_score 0.8306451612903226\n\n8 of kfold 5\naccuracy_score 0.8114754098360656\n\n9 of kfold 5\naccuracy_score 0.7950819672131147\n\n10 of kfold 5\naccuracy_score 0.8278688524590164\n",
          "name": "stdout"
        }
      ]
    },
    {
      "metadata": {},
      "cell_type": "markdown",
      "source": "##  Feature Engineering\n\n\nBased on the domain knowledge, we can come up with new features that might affect the target variable. We will create the following three new features:\n\n    Total Income - As discussed during bivariate analysis we will combine the Applicant Income and Coapplicant Income. If the total income is high, chances of loan approval might also be high.\n    \n    \n    EMI - EMI is the monthly amount to be paid by the applicant to repay the loan. Idea behind making this variable is that people who have high EMI’s might find it difficult to pay back the loan. We can calculate the EMI by taking the ratio of loan amount with respect to loan amount term.\n    \n    \n    Balance Income - This is the income left after the EMI has been paid. Idea behind creating this variable is that if this value is high, the chances are high that a person will repay the loan and hence increasing the chances of loan approval."
    },
    {
      "metadata": {
        "trusted": true
      },
      "cell_type": "code",
      "source": "train['Total_Income']=train['ApplicantIncome']+train['CoapplicantIncome'] \ntest['Total_Income']=test['ApplicantIncome']+test['CoapplicantIncome']",
      "execution_count": 68,
      "outputs": []
    },
    {
      "metadata": {
        "trusted": true
      },
      "cell_type": "code",
      "source": "import seaborn as sns\nsns.distplot(train['Total_Income']);",
      "execution_count": 70,
      "outputs": [
        {
          "output_type": "display_data",
          "data": {
            "image/png": "[encoded data removed]",
            "text/plain": "<Figure size 432x288 with 1 Axes>"
          },
          "metadata": {
            "needs_background": "light"
          }
        }
      ]
    },
    {
      "metadata": {
        "trusted": true
      },
      "cell_type": "code",
      "source": "#We can see it is shifted towards left, i.e., the distribution is right skewed. \n#So, let’s take the log transformation to make the distribution normal.\n\ntrain['Total_Income_log'] = np.log(train['Total_Income']) \nsns.distplot(train['Total_Income_log']); \ntest['Total_Income_log'] = np.log(test['Total_Income'])",
      "execution_count": 72,
      "outputs": [
        {
          "output_type": "display_data",
          "data": {
            "image/png": "[encoded data removed]",
            "text/plain": "<Figure size 432x288 with 1 Axes>"
          },
          "metadata": {
            "needs_background": "light"
          }
        }
      ]
    },
    {
      "metadata": {
        "trusted": true
      },
      "cell_type": "code",
      "source": "train_original['LoanAmount'].fillna(train_original['LoanAmount'].median(), inplace=True)\ntest_original['LoanAmount'].fillna(test_original['LoanAmount'].median(), inplace=True)",
      "execution_count": 87,
      "outputs": []
    },
    {
      "metadata": {
        "trusted": true
      },
      "cell_type": "code",
      "source": "train['EMI']=train_original['LoanAmount']/train_original['Loan_Amount_Term'] \ntest['EMI']=test_original['LoanAmount']/test_original['Loan_Amount_Term']",
      "execution_count": 88,
      "outputs": []
    },
    {
      "metadata": {
        "trusted": true
      },
      "cell_type": "code",
      "source": "test_original['LoanAmount'].isnull().sum()",
      "execution_count": 81,
      "outputs": [
        {
          "output_type": "execute_result",
          "execution_count": 81,
          "data": {
            "text/plain": "0"
          },
          "metadata": {}
        }
      ]
    },
    {
      "metadata": {
        "trusted": true
      },
      "cell_type": "code",
      "source": "train['EMI'].isnull().sum()",
      "execution_count": 90,
      "outputs": [
        {
          "output_type": "execute_result",
          "execution_count": 90,
          "data": {
            "text/plain": "14"
          },
          "metadata": {}
        }
      ]
    },
    {
      "metadata": {
        "trusted": true
      },
      "cell_type": "code",
      "source": "train['EMI'].value_counts()",
      "execution_count": 92,
      "outputs": [
        {
          "output_type": "execute_result",
          "execution_count": 92,
          "data": {
            "text/plain": "0.355556    29\n0.333333    17\n0.305556    16\n0.277778    12\n0.444444    11\n0.519444    10\n0.361111    10\n0.311111     9\n0.416667     9\n0.377778     7\n0.288889     7\n0.263889     7\n0.266667     7\n0.375000     7\n0.347222     6\n0.383333     6\n0.208333     6\n0.319444     6\n0.366667     6\n0.250000     6\n0.500000     6\n0.313889     5\n0.194444     5\n0.388889     5\n0.233333     5\n0.438889     5\n0.222222     5\n0.400000     5\n0.322222     5\n0.555556     5\n            ..\n0.502778     1\n0.702778     1\n3.333333     1\n0.389583     1\n0.761111     1\n0.663889     1\n0.854167     1\n0.700000     1\n0.236111     1\n0.097222     1\n0.969444     1\n0.866667     1\n0.530556     1\n0.297917     1\n0.436111     1\n0.463889     1\n0.441667     1\n0.741667     1\n0.633333     1\n1.266667     1\n0.569444     1\n1.354167     1\n0.822222     1\n0.694444     1\n0.330000     1\n1.388889     1\n0.855556     1\n4.305556     1\n0.172222     1\n0.875000     1\nName: EMI, Length: 237, dtype: int64"
          },
          "metadata": {}
        }
      ]
    },
    {
      "metadata": {
        "trusted": true
      },
      "cell_type": "code",
      "source": "train['EMI'].fillna(train['EMI'].median(), inplace=True)\ntest['EMI'].fillna(train['EMI'].median(), inplace=True)",
      "execution_count": 93,
      "outputs": []
    },
    {
      "metadata": {
        "trusted": true
      },
      "cell_type": "code",
      "source": "train['EMI'].isnull().sum()",
      "execution_count": 95,
      "outputs": [
        {
          "output_type": "execute_result",
          "execution_count": 95,
          "data": {
            "text/plain": "0"
          },
          "metadata": {}
        }
      ]
    },
    {
      "metadata": {
        "trusted": true
      },
      "cell_type": "code",
      "source": "sns.distplot(train['EMI']);",
      "execution_count": 94,
      "outputs": [
        {
          "output_type": "display_data",
          "data": {
            "image/png": "[encoded data removed]",
            "text/plain": "<Figure size 432x288 with 1 Axes>"
          },
          "metadata": {
            "needs_background": "light"
          }
        }
      ]
    },
    {
      "metadata": {
        "trusted": true
      },
      "cell_type": "code",
      "source": "train['Balance Income']=train['Total_Income']-(train['EMI']*1000) \n# Multiply with 1000 to make the units equal \ntest['Balance Income']=test['Total_Income']-(test['EMI']*1000)",
      "execution_count": 96,
      "outputs": []
    },
    {
      "metadata": {
        "trusted": true
      },
      "cell_type": "code",
      "source": "sns.distplot(train['Balance Income']);",
      "execution_count": 97,
      "outputs": [
        {
          "output_type": "display_data",
          "data": {
            "image/png": "[encoded data removed]",
            "text/plain": "<Figure size 432x288 with 1 Axes>"
          },
          "metadata": {
            "needs_background": "light"
          }
        }
      ]
    },
    {
      "metadata": {},
      "cell_type": "markdown",
      "source": "Let us now drop the variables which we used to create these new features. Reason for doing this is, the correlation between those old features and these new features will be very high and logistic regression assumes that the variables are not highly correlated. We also wants to remove the noise from the dataset, so removing correlated features will help in reducing the noise too."
    },
    {
      "metadata": {
        "trusted": true
      },
      "cell_type": "code",
      "source": "train.columns",
      "execution_count": 99,
      "outputs": [
        {
          "output_type": "execute_result",
          "execution_count": 99,
          "data": {
            "text/plain": "Index(['ApplicantIncome', 'CoapplicantIncome', 'Loan_Amount_Term',\n       'Credit_History', 'Loan_Status', 'LoanAmount_log', 'Gender_Female',\n       'Gender_Male', 'Married_No', 'Married_Yes', 'Dependents_3',\n       'Dependents_0', 'Dependents_1', 'Dependents_2', 'Education_Graduate',\n       'Education_Not Graduate', 'Self_Employed_No', 'Self_Employed_Yes',\n       'Property_Area_Rural', 'Property_Area_Semiurban', 'Property_Area_Urban',\n       'Total_Income', 'Total_Income_log', 'EMI', 'Balance Income'],\n      dtype='object')"
          },
          "metadata": {}
        }
      ]
    },
    {
      "metadata": {
        "trusted": true
      },
      "cell_type": "code",
      "source": "# Now how to get correlation between variables\ntrain[train.columns[1:]].corr()['LoanAmount_log'][:]",
      "execution_count": 100,
      "outputs": [
        {
          "output_type": "execute_result",
          "execution_count": 100,
          "data": {
            "text/plain": "CoapplicantIncome          0.206330\nLoan_Amount_Term           0.085353\nCredit_History            -0.018547\nLoan_Status               -0.037997\nLoanAmount_log             1.000000\nGender_Female             -0.143388\nGender_Male                0.143388\nMarried_No                -0.179802\nMarried_Yes                0.179802\nDependents_3               0.123673\nDependents_0              -0.147619\nDependents_1               0.057542\nDependents_2               0.046270\nEducation_Graduate         0.145885\nEducation_Not Graduate    -0.145885\nSelf_Employed_No          -0.109677\nSelf_Employed_Yes          0.109677\nProperty_Area_Rural        0.078614\nProperty_Area_Semiurban    0.007197\nProperty_Area_Urban       -0.083473\nTotal_Income               0.505306\nTotal_Income_log           0.659319\nEMI                        0.435607\nBalance Income             0.483446\nName: LoanAmount_log, dtype: float64"
          },
          "metadata": {}
        }
      ]
    },
    {
      "metadata": {
        "trusted": true
      },
      "cell_type": "code",
      "source": "train=train.drop(['ApplicantIncome', 'CoapplicantIncome',  'Loan_Amount_Term'], axis=1) \ntest=test.drop(['ApplicantIncome', 'CoapplicantIncome',  'Loan_Amount_Term'], axis=1)",
      "execution_count": 108,
      "outputs": []
    },
    {
      "metadata": {},
      "cell_type": "markdown",
      "source": "## We will try building model again as we have included more features and removed the correlated features\n"
    },
    {
      "metadata": {},
      "cell_type": "markdown",
      "source": "I will build the following models :\n\n    Logistic Regression\n    Decision Tree\n    Random Forest\n    XGBoost"
    },
    {
      "metadata": {
        "trusted": true
      },
      "cell_type": "code",
      "source": "X = train.drop('Loan_Status',1) \ny = train.Loan_Status                # Save target variable in separate dataset",
      "execution_count": 109,
      "outputs": []
    },
    {
      "metadata": {
        "trusted": true
      },
      "cell_type": "code",
      "source": "X.columns",
      "execution_count": 111,
      "outputs": [
        {
          "output_type": "execute_result",
          "execution_count": 111,
          "data": {
            "text/plain": "Index(['Credit_History', 'LoanAmount_log', 'Gender_Female', 'Gender_Male',\n       'Married_No', 'Married_Yes', 'Dependents_3', 'Dependents_0',\n       'Dependents_1', 'Dependents_2', 'Education_Graduate',\n       'Education_Not Graduate', 'Self_Employed_No', 'Self_Employed_Yes',\n       'Property_Area_Rural', 'Property_Area_Semiurban', 'Property_Area_Urban',\n       'Total_Income', 'Total_Income_log', 'EMI', 'Balance Income'],\n      dtype='object')"
          },
          "metadata": {}
        }
      ]
    },
    {
      "metadata": {
        "trusted": true
      },
      "cell_type": "code",
      "source": "X.shape",
      "execution_count": 112,
      "outputs": [
        {
          "output_type": "execute_result",
          "execution_count": 112,
          "data": {
            "text/plain": "(614, 21)"
          },
          "metadata": {}
        }
      ]
    },
    {
      "metadata": {
        "trusted": true
      },
      "cell_type": "code",
      "source": "X.info()",
      "execution_count": 113,
      "outputs": [
        {
          "output_type": "stream",
          "text": "<class 'pandas.core.frame.DataFrame'>\nRangeIndex: 614 entries, 0 to 613\nData columns (total 21 columns):\nCredit_History             614 non-null float64\nLoanAmount_log             614 non-null float64\nGender_Female              614 non-null uint8\nGender_Male                614 non-null uint8\nMarried_No                 614 non-null uint8\nMarried_Yes                614 non-null uint8\nDependents_3               614 non-null uint8\nDependents_0               614 non-null uint8\nDependents_1               614 non-null uint8\nDependents_2               614 non-null uint8\nEducation_Graduate         614 non-null uint8\nEducation_Not Graduate     614 non-null uint8\nSelf_Employed_No           614 non-null uint8\nSelf_Employed_Yes          614 non-null uint8\nProperty_Area_Rural        614 non-null uint8\nProperty_Area_Semiurban    614 non-null uint8\nProperty_Area_Urban        614 non-null uint8\nTotal_Income               614 non-null float64\nTotal_Income_log           614 non-null float64\nEMI                        614 non-null float64\nBalance Income             614 non-null float64\ndtypes: float64(6), uint8(15)\nmemory usage: 37.9 KB\n",
          "name": "stdout"
        }
      ]
    },
    {
      "metadata": {
        "trusted": true
      },
      "cell_type": "code",
      "source": "X.Property_Area_Semiurban.value_counts()",
      "execution_count": 114,
      "outputs": [
        {
          "output_type": "execute_result",
          "execution_count": 114,
          "data": {
            "text/plain": "0    381\n1    233\nName: Property_Area_Semiurban, dtype: int64"
          },
          "metadata": {}
        }
      ]
    },
    {
      "metadata": {},
      "cell_type": "markdown",
      "source": "## Logistic Regression"
    },
    {
      "metadata": {
        "trusted": true
      },
      "cell_type": "code",
      "source": "i=1 \nkf = StratifiedKFold(n_splits=5,random_state=1,shuffle=True) \nfor train_index,test_index in kf.split(X,y):     \n    print('\\n{} of kfold {}'.format(i,kf.n_splits))     \n    xtr,xvl = X.loc[train_index],X.loc[test_index]     \n    ytr,yvl = y[train_index],y[test_index]         \n\n    model = LogisticRegression(random_state=1)     \n    model.fit(xtr, ytr)     \n    pred_test = model.predict(xvl)     \n    score = accuracy_score(yvl,pred_test)     \n    print('accuracy_score',score)     \n    i+=1 \n    pred_test = model.predict(test) \n    pred=model.predict_proba(xvl)[:,1]",
      "execution_count": 116,
      "outputs": [
        {
          "output_type": "stream",
          "text": "\n1 of kfold 5\naccuracy_score 0.7983870967741935\n\n2 of kfold 5\naccuracy_score 0.8225806451612904\n\n3 of kfold 5\naccuracy_score 0.7786885245901639\n\n4 of kfold 5\naccuracy_score 0.7868852459016393\n\n5 of kfold 5\naccuracy_score 0.8278688524590164\n",
          "name": "stdout"
        }
      ]
    },
    {
      "metadata": {
        "trusted": true
      },
      "cell_type": "code",
      "source": "submission=pd.DataFrame()",
      "execution_count": 118,
      "outputs": []
    },
    {
      "metadata": {
        "trusted": true
      },
      "cell_type": "code",
      "source": "submission['Loan_Status']=pred_test            # filling Loan_Status with predictions \nsubmission['Loan_ID']=test_original['Loan_ID'] # filling Loan_ID with test Loan_ID\n\n# replacing 0 and 1 with N and Y \nsubmission['Loan_Status'].replace(0, 'N',inplace=True) \nsubmission['Loan_Status'].replace(1, 'Y',inplace=True)\n\n# Converting submission file to .csv format \npd.DataFrame(submission, columns=['Loan_ID','Loan_Status']).to_csv('Log2.csv')",
      "execution_count": 119,
      "outputs": []
    },
    {
      "metadata": {},
      "cell_type": "markdown",
      "source": "## Decision Tree"
    },
    {
      "metadata": {
        "trusted": true
      },
      "cell_type": "code",
      "source": "from sklearn import tree\ni=1 \nkf = StratifiedKFold(n_splits=5,random_state=1,shuffle=True) \nfor train_index,test_index in kf.split(X,y):     \n    print('\\n{} of kfold {}'.format(i,kf.n_splits))     \n    xtr,xvl = X.loc[train_index],X.loc[test_index]     \n    ytr,yvl = y[train_index],y[test_index]         \n\n    model = tree.DecisionTreeClassifier(random_state=1)      \n    model.fit(xtr, ytr)     \n    pred_test = model.predict(xvl)     \n    score = accuracy_score(yvl,pred_test)     \n    print('accuracy_score',score)     \n    i+=1 \n    pred_test = model.predict(test) \n    pred=model.predict_proba(xvl)[:,1]",
      "execution_count": 120,
      "outputs": [
        {
          "output_type": "stream",
          "text": "\n1 of kfold 5\naccuracy_score 0.6935483870967742\n\n2 of kfold 5\naccuracy_score 0.7258064516129032\n\n3 of kfold 5\naccuracy_score 0.6967213114754098\n\n4 of kfold 5\naccuracy_score 0.680327868852459\n\n5 of kfold 5\naccuracy_score 0.6967213114754098\n",
          "name": "stdout"
        }
      ]
    },
    {
      "metadata": {
        "trusted": true
      },
      "cell_type": "code",
      "source": "submission['Loan_Status']=pred_test            # filling Loan_Status with predictions submission['Loan_ID']=test_original['Loan_ID'] # filling Loan_ID with test Loan_ID\n\n# replacing 0 and 1 with N and Y \nsubmission['Loan_Status'].replace(0, 'N',inplace=True) \nsubmission['Loan_Status'].replace(1, 'Y',inplace=True)\n\n# Converting submission file to .csv format \npd.DataFrame(submission, columns=['Loan_ID','Loan_Status']).to_csv('Decision Tree.csv')",
      "execution_count": 121,
      "outputs": []
    },
    {
      "metadata": {},
      "cell_type": "markdown",
      "source": "We got an accuracy of 0.63 which is much lesser than the accuracy from logistic regression model. So let’s build another model, i.e. Random Forest, a tree based ensemble algorithm and try to improve our model by improving the accuracy."
    },
    {
      "metadata": {},
      "cell_type": "markdown",
      "source": "## Random Forest"
    },
    {
      "metadata": {
        "trusted": true
      },
      "cell_type": "code",
      "source": "from sklearn.ensemble import RandomForestClassifier",
      "execution_count": 122,
      "outputs": []
    },
    {
      "metadata": {
        "trusted": true
      },
      "cell_type": "code",
      "source": "i=1 \nkf = StratifiedKFold(n_splits=5,random_state=1,shuffle=True) \nfor train_index,test_index in kf.split(X,y):     \n    print('\\n{} of kfold {}'.format(i,kf.n_splits))     \n    xtr,xvl = X.loc[train_index],X.loc[test_index]     \n    ytr,yvl = y[train_index],y[test_index]         \n\n    model = RandomForestClassifier(random_state=1, max_depth=10)     \n    model.fit(xtr, ytr)     \n    pred_test = model.predict(xvl)     \n    score = accuracy_score(yvl,pred_test)     \n    print('accuracy_score',score)     \n    i+=1 \n    pred_test = model.predict(test) \n    pred=model.predict_proba(xvl)[:,1]",
      "execution_count": 123,
      "outputs": [
        {
          "output_type": "stream",
          "text": "\n1 of kfold 5\naccuracy_score 0.8145161290322581\n\n2 of kfold 5\naccuracy_score 0.7983870967741935\n\n3 of kfold 5\naccuracy_score 0.7213114754098361\n\n4 of kfold 5\naccuracy_score 0.7295081967213115\n\n5 of kfold 5\naccuracy_score 0.8114754098360656\n",
          "name": "stdout"
        }
      ]
    },
    {
      "metadata": {},
      "cell_type": "markdown",
      "source": "### Lets try using GridSearchCV"
    },
    {
      "metadata": {
        "trusted": true
      },
      "cell_type": "code",
      "source": "from sklearn.model_selection import GridSearchCV\n\n# Provide range for max_depth from 1 to 20 with an interval of 2 and from 1 to 200 with an interval of 20 for n_estimators \nparamgrid = {'max_depth': list(range(1, 20, 2)), 'n_estimators': list(range(1, 200, 20))}\n\ngrid_search=GridSearchCV(RandomForestClassifier(random_state=1),paramgrid)\n\nfrom sklearn.model_selection import train_test_split \nx_train, x_cv, y_train, y_cv = train_test_split(X,y, test_size =0.3, random_state=1)\n\n# Fit the grid search model \ngrid_search.fit(x_train,y_train)",
      "execution_count": 124,
      "outputs": [
        {
          "output_type": "stream",
          "text": "/home/nbuser/anaconda3_501/lib/python3.6/site-packages/sklearn/model_selection/_search.py:841: DeprecationWarning: The default of the `iid` parameter will change from True to False in version 0.22 and will be removed in 0.24. This will change numeric results when test-set sizes are unequal.\n  DeprecationWarning)\n",
          "name": "stderr"
        },
        {
          "output_type": "execute_result",
          "execution_count": 124,
          "data": {
            "text/plain": "GridSearchCV(cv='warn', error_score='raise-deprecating',\n       estimator=RandomForestClassifier(bootstrap=True, class_weight=None, criterion='gini',\n            max_depth=None, max_features='auto', max_leaf_nodes=None,\n            min_impurity_decrease=0.0, min_impurity_split=None,\n            min_samples_leaf=1, min_samples_split=2,\n            min_weight_fraction_leaf=0.0, n_estimators='warn', n_jobs=None,\n            oob_score=False, random_state=1, verbose=0, warm_start=False),\n       fit_params=None, iid='warn', n_jobs=None,\n       param_grid={'max_depth': [1, 3, 5, 7, 9, 11, 13, 15, 17, 19], 'n_estimators': [1, 21, 41, 61, 81, 101, 121, 141, 161, 181]},\n       pre_dispatch='2*n_jobs', refit=True, return_train_score='warn',\n       scoring=None, verbose=0)"
          },
          "metadata": {}
        }
      ]
    },
    {
      "metadata": {
        "trusted": true
      },
      "cell_type": "code",
      "source": "# Estimating the optimized value \ngrid_search.best_estimator_",
      "execution_count": 125,
      "outputs": [
        {
          "output_type": "execute_result",
          "execution_count": 125,
          "data": {
            "text/plain": "RandomForestClassifier(bootstrap=True, class_weight=None, criterion='gini',\n            max_depth=3, max_features='auto', max_leaf_nodes=None,\n            min_impurity_decrease=0.0, min_impurity_split=None,\n            min_samples_leaf=1, min_samples_split=2,\n            min_weight_fraction_leaf=0.0, n_estimators=141, n_jobs=None,\n            oob_score=False, random_state=1, verbose=0, warm_start=False)"
          },
          "metadata": {}
        }
      ]
    },
    {
      "metadata": {
        "trusted": true
      },
      "cell_type": "code",
      "source": "i=1 \nkf = StratifiedKFold(n_splits=5,random_state=1,shuffle=True) \nfor train_index,test_index in kf.split(X,y):     \n    print('\\n{} of kfold {}'.format(i,kf.n_splits))     \n    xtr,xvl = X.loc[train_index],X.loc[test_index]     \n    ytr,yvl = y[train_index],y[test_index]         \n    model = RandomForestClassifier(random_state=1, max_depth=3, n_estimators=41)     \n    model.fit(xtr, ytr)     \n    pred_test = model.predict(xvl)     \n    score = accuracy_score(yvl,pred_test)     \n    print('accuracy_score',score)     \n    i+=1 \n    pred_test = model.predict(test) \n    pred2=model.predict_proba(test)[:,1]",
      "execution_count": 126,
      "outputs": [
        {
          "output_type": "stream",
          "text": "\n1 of kfold 5\naccuracy_score 0.7983870967741935\n\n2 of kfold 5\naccuracy_score 0.8225806451612904\n\n3 of kfold 5\naccuracy_score 0.8032786885245902\n\n4 of kfold 5\naccuracy_score 0.7622950819672131\n\n5 of kfold 5\naccuracy_score 0.819672131147541\n",
          "name": "stdout"
        }
      ]
    },
    {
      "metadata": {
        "trusted": true
      },
      "cell_type": "code",
      "source": "submission['Loan_Status']=pred_test            # filling Loan_Status with predictions submission['Loan_ID']=test_original['Loan_ID'] # filling Loan_ID with test Loan_ID\n\n# replacing 0 and 1 with N and Y \nsubmission['Loan_Status'].replace(0, 'N',inplace=True) \nsubmission['Loan_Status'].replace(1, 'Y',inplace=True)\n\n# Converting submission file to .csv format \npd.DataFrame(submission, columns=['Loan_ID','Loan_Status']).to_csv('Random Forest.csv')",
      "execution_count": 128,
      "outputs": []
    },
    {
      "metadata": {},
      "cell_type": "markdown",
      "source": "##  Feature importance"
    },
    {
      "metadata": {
        "trusted": true
      },
      "cell_type": "code",
      "source": "importances=pd.Series(model.feature_importances_, index=X.columns) \nimportances.plot(kind='barh', figsize=(12,8))",
      "execution_count": 129,
      "outputs": [
        {
          "output_type": "execute_result",
          "execution_count": 129,
          "data": {
            "text/plain": "<matplotlib.axes._subplots.AxesSubplot at 0x7fd0adaa0a90>"
          },
          "metadata": {}
        },
        {
          "output_type": "display_data",
          "data": {
            "image/png": "[encoded data removed]",
            "text/plain": "<Figure size 864x576 with 1 Axes>"
          },
          "metadata": {
            "needs_background": "light"
          }
        }
      ]
    },
    {
      "metadata": {},
      "cell_type": "markdown",
      "source": "We can see that Credit_History is the most important feature followed by Balance Income, Total Income, EMI. So, feature engineering helped us in predicting our target variable."
    },
    {
      "metadata": {},
      "cell_type": "markdown",
      "source": "## XGBOOST"
    },
    {
      "metadata": {
        "trusted": true
      },
      "cell_type": "code",
      "source": "from xgboost import XGBClassifier\n\ni=1 \nkf = StratifiedKFold(n_splits=5,random_state=1,shuffle=True) \nfor train_index,test_index in kf.split(X,y):     \n    print('\\n{} of kfold {}'.format(i,kf.n_splits))     \n    xtr,xvl = X.loc[train_index],X.loc[test_index]     \n    ytr,yvl = y[train_index],y[test_index]         \n    model = XGBClassifier(n_estimators=50, max_depth=4)     \n    model.fit(xtr, ytr)     \n    pred_test = model.predict(xvl)     \n    score = accuracy_score(yvl,pred_test)     \n    print('accuracy_score',score)     \n    i+=1 \n    pred_test = model.predict(test) \n    pred3=model.predict_proba(test)[:,1]",
      "execution_count": 132,
      "outputs": [
        {
          "output_type": "stream",
          "text": "\n1 of kfold 5\naccuracy_score 0.7903225806451613\n\n2 of kfold 5\naccuracy_score 0.8225806451612904\n\n3 of kfold 5\naccuracy_score 0.7622950819672131\n\n4 of kfold 5\naccuracy_score 0.7704918032786885\n\n5 of kfold 5\naccuracy_score 0.7950819672131147\n",
          "name": "stdout"
        }
      ]
    },
    {
      "metadata": {
        "trusted": true
      },
      "cell_type": "code",
      "source": "submission['Loan_Status']=pred_test \nsubmission['Loan_ID']=test_original['Loan_ID']\n\nsubmission['Loan_Status'].replace(0, 'N',inplace=True) \nsubmission['Loan_Status'].replace(1, 'Y',inplace=True)\n\npd.DataFrame(submission, columns=['Loan_ID','Loan_Status']).to_csv('XGBoost.csv')",
      "execution_count": 133,
      "outputs": []
    },
    {
      "metadata": {},
      "cell_type": "markdown",
      "source": "### More techniques to be tried are:\n\nGridSearch on XGB\nDemo on different hyper parameter opt on XGB\n\nI) Hyperopt\n\nII) Spearmint\n\nIII) SMAC\n\nTry more algorithms like\n\nI) Catboost\n\nII) LightGBM"
    },
    {
      "metadata": {
        "trusted": true
      },
      "cell_type": "code",
      "source": "",
      "execution_count": null,
      "outputs": []
    },
    {
      "metadata": {
        "trusted": true
      },
      "cell_type": "code",
      "source": "",
      "execution_count": null,
      "outputs": []
    },
    {
      "metadata": {
        "trusted": true
      },
      "cell_type": "code",
      "source": "",
      "execution_count": null,
      "outputs": []
    },
    {
      "metadata": {
        "trusted": true
      },
      "cell_type": "code",
      "source": "",
      "execution_count": null,
      "outputs": []
    },
    {
      "metadata": {
        "trusted": true
      },
      "cell_type": "code",
      "source": "",
      "execution_count": null,
      "outputs": []
    },
    {
      "metadata": {
        "trusted": true
      },
      "cell_type": "code",
      "source": "",
      "execution_count": null,
      "outputs": []
    },
    {
      "metadata": {
        "trusted": true
      },
      "cell_type": "code",
      "source": "",
      "execution_count": null,
      "outputs": []
    },
    {
      "metadata": {
        "trusted": true
      },
      "cell_type": "code",
      "source": "",
      "execution_count": null,
      "outputs": []
    },
    {
      "metadata": {
        "trusted": true
      },
      "cell_type": "code",
      "source": "",
      "execution_count": null,
      "outputs": []
    }
  ],
  "metadata": {
    "kernelspec": {
      "name": "python36",
      "display_name": "Python 3.6",
      "language": "python"
    },
    "language_info": {
      "mimetype": "text/x-python",
      "nbconvert_exporter": "python",
      "name": "python",
      "pygments_lexer": "ipython3",
      "version": "3.6.6",
      "file_extension": ".py",
      "codemirror_mode": {
        "version": 3,
        "name": "ipython"
      }
    }
  },
  "nbformat": 4,
  "nbformat_minor": 2
}